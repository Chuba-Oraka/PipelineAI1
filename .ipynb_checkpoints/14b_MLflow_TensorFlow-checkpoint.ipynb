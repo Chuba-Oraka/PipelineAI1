{
 "cells": [
  {
   "cell_type": "code",
   "execution_count": 1,
   "metadata": {},
   "outputs": [
    {
     "name": "stderr",
     "output_type": "stream",
     "text": [
      "/opt/conda/lib/python3.6/site-packages/tensorflow/python/framework/dtypes.py:526: FutureWarning: Passing (type, 1) or '1type' as a synonym of type is deprecated; in a future version of numpy, it will be understood as (type, (1,)) / '(1,)type'.\n",
      "  _np_qint8 = np.dtype([(\"qint8\", np.int8, 1)])\n",
      "/opt/conda/lib/python3.6/site-packages/tensorflow/python/framework/dtypes.py:527: FutureWarning: Passing (type, 1) or '1type' as a synonym of type is deprecated; in a future version of numpy, it will be understood as (type, (1,)) / '(1,)type'.\n",
      "  _np_quint8 = np.dtype([(\"quint8\", np.uint8, 1)])\n",
      "/opt/conda/lib/python3.6/site-packages/tensorflow/python/framework/dtypes.py:528: FutureWarning: Passing (type, 1) or '1type' as a synonym of type is deprecated; in a future version of numpy, it will be understood as (type, (1,)) / '(1,)type'.\n",
      "  _np_qint16 = np.dtype([(\"qint16\", np.int16, 1)])\n",
      "/opt/conda/lib/python3.6/site-packages/tensorflow/python/framework/dtypes.py:529: FutureWarning: Passing (type, 1) or '1type' as a synonym of type is deprecated; in a future version of numpy, it will be understood as (type, (1,)) / '(1,)type'.\n",
      "  _np_quint16 = np.dtype([(\"quint16\", np.uint16, 1)])\n",
      "/opt/conda/lib/python3.6/site-packages/tensorflow/python/framework/dtypes.py:530: FutureWarning: Passing (type, 1) or '1type' as a synonym of type is deprecated; in a future version of numpy, it will be understood as (type, (1,)) / '(1,)type'.\n",
      "  _np_qint32 = np.dtype([(\"qint32\", np.int32, 1)])\n",
      "/opt/conda/lib/python3.6/site-packages/tensorflow/python/framework/dtypes.py:535: FutureWarning: Passing (type, 1) or '1type' as a synonym of type is deprecated; in a future version of numpy, it will be understood as (type, (1,)) / '(1,)type'.\n",
      "  np_resource = np.dtype([(\"resource\", np.ubyte, 1)])\n"
     ]
    }
   ],
   "source": [
    "'''Trains and evaluate a simple MLP\n",
    "on the Reuters newswire topic classification task.\n",
    "'''\n",
    "from __future__ import print_function\n",
    "\n",
    "import pandas as pd\n",
    "import tensorflow as tf\n",
    "from tensorflow.python.saved_model import tag_constants\n",
    "\n",
    "import mlflow\n",
    "import mlflow.tensorflow\n",
    "from mlflow import pyfunc"
   ]
  },
  {
   "cell_type": "markdown",
   "metadata": {},
   "source": [
    "# Setup Experiment Tracker"
   ]
  },
  {
   "cell_type": "code",
   "execution_count": 2,
   "metadata": {},
   "outputs": [],
   "source": [
    "tracking_uri='file:///mnt/pipelineai/users/experiments'\n",
    "mlflow.set_tracking_uri(tracking_uri)\n",
    "\n",
    "experiment_name = 'boston'\n",
    "mlflow.set_experiment(experiment_name)  \n",
    "\n",
    "import mlflow.tensorflow\n",
    "mlflow.tensorflow.autolog()"
   ]
  },
  {
   "cell_type": "markdown",
   "metadata": {},
   "source": [
    "# Import Training Data "
   ]
  },
  {
   "cell_type": "code",
   "execution_count": 3,
   "metadata": {},
   "outputs": [
    {
     "name": "stdout",
     "output_type": "stream",
     "text": [
      "INFO:tensorflow:Using default config.\n",
      "WARNING:tensorflow:Using temporary folder as model directory: /tmp/tmppg8qo_el\n",
      "INFO:tensorflow:Using config: {'_model_dir': '/tmp/tmppg8qo_el', '_tf_random_seed': None, '_save_summary_steps': 100, '_save_checkpoints_steps': None, '_save_checkpoints_secs': 600, '_session_config': allow_soft_placement: true\n",
      "graph_options {\n",
      "  rewrite_options {\n",
      "    meta_optimizer_iterations: ONE\n",
      "  }\n",
      "}\n",
      ", '_keep_checkpoint_max': 5, '_keep_checkpoint_every_n_hours': 10000, '_log_step_count_steps': 100, '_train_distribute': None, '_device_fn': None, '_protocol': None, '_eval_distribute': None, '_experimental_distribute': None, '_service': None, '_cluster_spec': <tensorflow.python.training.server_lib.ClusterSpec object at 0x7f1c7f543eb8>, '_task_type': 'worker', '_task_id': 0, '_global_id_in_cluster': 0, '_master': '', '_evaluation_master': '', '_is_chief': True, '_num_ps_replicas': 0, '_num_worker_replicas': 1}\n"
     ]
    }
   ],
   "source": [
    "# Builds, trains and evaluates a tf.estimator. Then, exports it for inference, logs the exported model\n",
    "# with MLflow, and loads the fitted model back as a PyFunc to make predictions.\n",
    "(x_train, y_train), (x_test, y_test) = tf.keras.datasets.boston_housing.load_data()\n",
    "# There are 13 features we are using for inference.\n",
    "feat_cols = [tf.feature_column.numeric_column(key=\"features\", shape=(x_train.shape[1],))]\n",
    "feat_spec = {\n",
    "    \"features\": tf.placeholder(\"float\", name=\"features\", shape=[None, x_train.shape[1]])}\n",
    "hidden_units = [50, 20]\n",
    "steps = 1000\n",
    "regressor = tf.estimator.DNNRegressor(hidden_units=hidden_units, feature_columns=feat_cols)\n",
    "train_input_fn = tf.estimator.inputs.numpy_input_fn({\"features\": x_train}, y_train,\n",
    "                                                    num_epochs=None, shuffle=True)"
   ]
  },
  {
   "cell_type": "markdown",
   "metadata": {},
   "source": [
    "# Start Training Run"
   ]
  },
  {
   "cell_type": "code",
   "execution_count": 4,
   "metadata": {},
   "outputs": [
    {
     "name": "stdout",
     "output_type": "stream",
     "text": [
      "WARNING:tensorflow:From /opt/conda/lib/python3.6/site-packages/tensorflow/python/framework/op_def_library.py:263: colocate_with (from tensorflow.python.framework.ops) is deprecated and will be removed in a future version.\n",
      "Instructions for updating:\n",
      "Colocations handled automatically by placer.\n",
      "WARNING:tensorflow:From /opt/conda/lib/python3.6/site-packages/tensorflow_estimator/python/estimator/inputs/queues/feeding_queue_runner.py:62: QueueRunner.__init__ (from tensorflow.python.training.queue_runner_impl) is deprecated and will be removed in a future version.\n",
      "Instructions for updating:\n",
      "To construct input pipelines, use the `tf.data` module.\n",
      "WARNING:tensorflow:From /opt/conda/lib/python3.6/site-packages/tensorflow_estimator/python/estimator/inputs/queues/feeding_functions.py:500: add_queue_runner (from tensorflow.python.training.queue_runner_impl) is deprecated and will be removed in a future version.\n",
      "Instructions for updating:\n",
      "To construct input pipelines, use the `tf.data` module.\n",
      "INFO:tensorflow:Calling model_fn.\n",
      "WARNING:tensorflow:From /opt/conda/lib/python3.6/site-packages/tensorflow/python/feature_column/feature_column_v2.py:2703: to_float (from tensorflow.python.ops.math_ops) is deprecated and will be removed in a future version.\n",
      "Instructions for updating:\n",
      "Use tf.cast instead.\n",
      "INFO:tensorflow:Done calling model_fn.\n",
      "INFO:tensorflow:Create CheckpointSaverHook.\n",
      "INFO:tensorflow:Graph was finalized.\n",
      "INFO:tensorflow:Running local_init_op.\n",
      "INFO:tensorflow:Done running local_init_op.\n",
      "WARNING:tensorflow:From /opt/conda/lib/python3.6/site-packages/tensorflow/python/training/monitored_session.py:809: start_queue_runners (from tensorflow.python.training.queue_runner_impl) is deprecated and will be removed in a future version.\n",
      "Instructions for updating:\n",
      "To construct input pipelines, use the `tf.data` module.\n",
      "INFO:tensorflow:Saving checkpoints for 0 into /tmp/tmppg8qo_el/model.ckpt.\n",
      "INFO:tensorflow:loss = 90962.03, step = 1\n",
      "INFO:tensorflow:global_step/sec: 342.964\n",
      "INFO:tensorflow:loss = 10611.459, step = 101 (0.320 sec)\n",
      "INFO:tensorflow:global_step/sec: 375.777\n",
      "INFO:tensorflow:loss = 9368.636, step = 201 (0.172 sec)\n",
      "INFO:tensorflow:global_step/sec: 582.004\n",
      "INFO:tensorflow:loss = 5337.074, step = 301 (0.252 sec)\n",
      "INFO:tensorflow:global_step/sec: 379.58\n",
      "INFO:tensorflow:loss = 6494.7617, step = 401 (0.286 sec)\n",
      "INFO:tensorflow:global_step/sec: 334.108\n",
      "INFO:tensorflow:loss = 4710.8643, step = 501 (0.392 sec)\n",
      "INFO:tensorflow:global_step/sec: 255.987\n",
      "INFO:tensorflow:loss = 5838.304, step = 601 (0.196 sec)\n",
      "INFO:tensorflow:global_step/sec: 538.599\n",
      "INFO:tensorflow:loss = 4997.58, step = 701 (0.281 sec)\n",
      "INFO:tensorflow:global_step/sec: 338.486\n",
      "INFO:tensorflow:loss = 4327.5024, step = 801 (0.301 sec)\n",
      "INFO:tensorflow:global_step/sec: 345.71\n",
      "INFO:tensorflow:loss = 5075.41, step = 901 (0.291 sec)\n",
      "INFO:tensorflow:Saving checkpoints for 1000 into /tmp/tmppg8qo_el/model.ckpt.\n",
      "INFO:tensorflow:Loss for final step: 4889.6387.\n",
      "INFO:tensorflow:Calling model_fn.\n",
      "INFO:tensorflow:Done calling model_fn.\n",
      "INFO:tensorflow:Starting evaluation at 2019-08-19T17:14:41Z\n",
      "INFO:tensorflow:Graph was finalized.\n",
      "WARNING:tensorflow:From /opt/conda/lib/python3.6/site-packages/tensorflow/python/training/saver.py:1266: checkpoint_exists (from tensorflow.python.training.checkpoint_management) is deprecated and will be removed in a future version.\n",
      "Instructions for updating:\n",
      "Use standard file APIs to check for files with this prefix.\n",
      "INFO:tensorflow:Restoring parameters from /tmp/tmppg8qo_el/model.ckpt-1000\n",
      "INFO:tensorflow:Running local_init_op.\n",
      "INFO:tensorflow:Done running local_init_op.\n",
      "INFO:tensorflow:Evaluation [100/1000]\n",
      "INFO:tensorflow:Evaluation [200/1000]\n",
      "INFO:tensorflow:Evaluation [300/1000]\n",
      "INFO:tensorflow:Evaluation [400/1000]\n",
      "INFO:tensorflow:Evaluation [500/1000]\n",
      "INFO:tensorflow:Evaluation [600/1000]\n",
      "INFO:tensorflow:Evaluation [700/1000]\n",
      "INFO:tensorflow:Evaluation [800/1000]\n",
      "INFO:tensorflow:Evaluation [900/1000]\n",
      "INFO:tensorflow:Evaluation [1000/1000]\n",
      "INFO:tensorflow:Finished evaluation at 2019-08-19-17:14:43\n",
      "INFO:tensorflow:Saving dict for global step 1000: average_loss = 38.085403, global_step = 1000, label/mean = 23.075186, loss = 4874.9316, prediction/mean = 22.883385\n",
      "INFO:tensorflow:Saving 'checkpoint_path' summary for global step 1000: /tmp/tmppg8qo_el/model.ckpt-1000\n",
      "INFO:tensorflow:Calling model_fn.\n",
      "INFO:tensorflow:Done calling model_fn.\n",
      "WARNING:tensorflow:From /opt/conda/lib/python3.6/site-packages/tensorflow/python/saved_model/signature_def_utils_impl.py:205: build_tensor_info (from tensorflow.python.saved_model.utils_impl) is deprecated and will be removed in a future version.\n",
      "Instructions for updating:\n",
      "This function will only be available through the v1 compatibility library as tf.compat.v1.saved_model.utils.build_tensor_info or tf.compat.v1.saved_model.build_tensor_info.\n",
      "INFO:tensorflow:Signatures INCLUDED in export for Classify: None\n",
      "INFO:tensorflow:Signatures INCLUDED in export for Regress: None\n",
      "INFO:tensorflow:Signatures INCLUDED in export for Predict: ['predict']\n",
      "INFO:tensorflow:Signatures INCLUDED in export for Train: None\n",
      "INFO:tensorflow:Signatures INCLUDED in export for Eval: None\n",
      "INFO:tensorflow:Signatures EXCLUDED from export because they cannot be be served via TensorFlow Serving APIs:\n",
      "INFO:tensorflow:'serving_default' : Regression input must be a single string Tensor; got {'features': <tf.Tensor 'features:0' shape=(?, 13) dtype=float32>}\n",
      "INFO:tensorflow:'regression' : Regression input must be a single string Tensor; got {'features': <tf.Tensor 'features:0' shape=(?, 13) dtype=float32>}\n",
      "WARNING:tensorflow:Export includes no default signature!\n",
      "INFO:tensorflow:Restoring parameters from /tmp/tmppg8qo_el/model.ckpt-1000\n",
      "INFO:tensorflow:Assets added to graph.\n",
      "INFO:tensorflow:No assets to write.\n",
      "INFO:tensorflow:SavedModel written to: ./saved-models/boston/temp-b'1566234883'/saved_model.pb\n"
     ]
    },
    {
     "name": "stderr",
     "output_type": "stream",
     "text": [
      "/opt/conda/lib/python3.6/site-packages/tensorflow/python/platform/tf_logging.py:161: DeprecationWarning: The 'warn' method is deprecated, use 'warning' instead\n",
      "  get_logger().warn(msg, *args, **kwargs)\n",
      "2019/08/19 17:14:43 INFO mlflow.tensorflow: Validating the specified TensorFlow model by attempting to load it in a new TensorFlow graph...\n"
     ]
    },
    {
     "name": "stdout",
     "output_type": "stream",
     "text": [
      "WARNING:tensorflow:From /opt/conda/lib/python3.6/site-packages/mlflow/tensorflow.py:264: load (from tensorflow.python.saved_model.loader_impl) is deprecated and will be removed in a future version.\n",
      "Instructions for updating:\n",
      "This function will only be available through the v1 compatibility library as tf.compat.v1.saved_model.loader.load or tf.compat.v1.saved_model.load. There will be a new function for importing SavedModels in Tensorflow 2.0.\n",
      "INFO:tensorflow:Restoring parameters from ./saved-models/boston/1566234883/variables/variables\n"
     ]
    },
    {
     "name": "stderr",
     "output_type": "stream",
     "text": [
      "2019/08/19 17:14:43 INFO mlflow.tensorflow: Validation succeeded!\n",
      "2019/08/19 17:14:43 INFO mlflow.tensorflow: Validating the specified TensorFlow model by attempting to load it in a new TensorFlow graph...\n"
     ]
    },
    {
     "name": "stdout",
     "output_type": "stream",
     "text": [
      "INFO:tensorflow:Restoring parameters from ./saved-models/boston/1566234883/variables/variables\n"
     ]
    },
    {
     "name": "stderr",
     "output_type": "stream",
     "text": [
      "2019/08/19 17:14:43 INFO mlflow.tensorflow: Validation succeeded!\n"
     ]
    }
   ],
   "source": [
    "with mlflow.start_run() as run:\n",
    "    mlflow.log_param(\"Hidden Units\", hidden_units)\n",
    "    mlflow.log_param(\"Steps\", steps)\n",
    "    regressor.train(train_input_fn, steps=steps)\n",
    "    test_input_fn = tf.estimator.inputs.numpy_input_fn({\"features\": x_test}, y_test,\n",
    "                                                       num_epochs=None, shuffle=True)\n",
    "    # Compute mean squared error\n",
    "    mse = regressor.evaluate(test_input_fn, steps=steps)\n",
    "    mlflow.log_metric(\"Mean Square Error\", mse['average_loss'])\n",
    "    # Building a receiver function for exporting\n",
    "    receiver_fn = tf.estimator.export.build_raw_serving_input_receiver_fn(feat_spec)\n",
    "    \n",
    "    saved_estimator_path = regressor.export_savedmodel('./saved-models/boston', receiver_fn).decode(\"utf-8\")\n",
    "    # Logging the saved model\n",
    "    mlflow.tensorflow.log_model(tf_saved_model_dir=saved_estimator_path,\n",
    "                                tf_meta_graph_tags=[tag_constants.SERVING],\n",
    "                                tf_signature_def_key=\"predict\",\n",
    "                                artifact_path=\"model\")    "
   ]
  },
  {
   "cell_type": "markdown",
   "metadata": {},
   "source": [
    "# Predict with the Model"
   ]
  },
  {
   "cell_type": "code",
   "execution_count": 5,
   "metadata": {
    "scrolled": true
   },
   "outputs": [
    {
     "name": "stdout",
     "output_type": "stream",
     "text": [
      "INFO:tensorflow:Restoring parameters from /mnt/pipelineai/users/experiments/3/58140c2a4f95457280421dc6641dae9e/artifacts/model/tfmodel/variables/variables\n"
     ]
    },
    {
     "name": "stderr",
     "output_type": "stream",
     "text": [
      "/opt/conda/lib/python3.6/site-packages/mlflow/pyfunc/__init__.py:281: DeprecationWarning: .. Warning:: ``mlflow.pyfunc.load_pyfunc`` is deprecated since 1.0. This method will be removed in a near future release. Use ``mlflow.pyfunc.load_model`` instead.\n",
      "  return load_pyfunc(model_uri, suppress_warnings)\n"
     ]
    },
    {
     "name": "stdout",
     "output_type": "stream",
     "text": [
      "     predictions  original_labels\n",
      "0      11.829707              7.2\n",
      "1      23.254450             18.8\n",
      "2      24.620707             19.0\n",
      "3      27.537186             27.0\n",
      "4      26.676273             22.2\n",
      "5      21.038189             24.5\n",
      "6      27.895016             31.2\n",
      "7      24.709459             22.9\n",
      "8      19.193541             20.5\n",
      "9      21.846653             23.2\n",
      "10      9.591978             18.6\n",
      "11     21.525278             14.5\n",
      "12     19.057186             17.8\n",
      "13     35.095127             50.0\n",
      "14     17.297873             20.8\n",
      "15     22.093384             24.3\n",
      "16     20.326738             24.2\n",
      "17     22.748047             19.8\n",
      "18     20.818329             19.1\n",
      "19     26.216377             22.7\n",
      "20     12.304857             12.0\n",
      "21     12.247516             10.2\n",
      "22     21.859179             20.0\n",
      "23     16.919374             18.5\n",
      "24     24.272511             20.9\n",
      "25     23.759699             23.0\n",
      "26     28.156454             27.5\n",
      "27     42.135223             30.1\n",
      "28     13.625291              9.5\n",
      "29     22.470072             22.0\n",
      "..           ...              ...\n",
      "72     23.324604             19.6\n",
      "73     14.280415              7.0\n",
      "74     22.977415             26.4\n",
      "75     22.861483             18.9\n",
      "76     22.694630             20.9\n",
      "77     21.278404             28.1\n",
      "78     34.037579             35.4\n",
      "79      7.896607             10.2\n",
      "80     22.325840             24.3\n",
      "81     31.532356             43.1\n",
      "82     20.818092             17.6\n",
      "83     18.187202             15.4\n",
      "84     23.286079             16.2\n",
      "85     19.531670             27.1\n",
      "86     21.508543             21.4\n",
      "87     22.855946             21.5\n",
      "88     23.577328             22.4\n",
      "89     27.245983             25.0\n",
      "90     20.151739             16.6\n",
      "91     24.356745             18.6\n",
      "92     22.727037             22.0\n",
      "93     25.524351             42.8\n",
      "94     34.599857             35.1\n",
      "95     22.167168             21.5\n",
      "96     31.677969             36.0\n",
      "97     30.932140             21.9\n",
      "98     22.555105             24.1\n",
      "99     35.220779             50.0\n",
      "100    29.404211             26.7\n",
      "101    12.082585             25.0\n",
      "\n",
      "[102 rows x 2 columns]\n"
     ]
    }
   ],
   "source": [
    "# Resume the run by passing run id from above\n",
    "with mlflow.start_run(run_id=run.info.run_id) as run:\n",
    "    # Reload the model and predict\n",
    "    pyfunc_model = mlflow.pyfunc.load_model(mlflow.get_artifact_uri('model'))\n",
    "\n",
    "    # Predict with the loaded Python Function\n",
    "    df = pd.DataFrame(data=x_test, columns=[\"features\"] * x_train.shape[1])\n",
    "    predict_df = pyfunc_model.predict(df)\n",
    "    predict_df['original_labels'] = y_test\n",
    "    print(predict_df)"
   ]
  },
  {
   "cell_type": "markdown",
   "metadata": {},
   "source": [
    "# Check the MLflow Pipelines Tab\n",
    "![MLflow Pipeline](https://raw.githubusercontent.com/PipelineAI/site/master/assets/img/mlflow-pipeline3.png)"
   ]
  },
  {
   "cell_type": "code",
   "execution_count": null,
   "metadata": {},
   "outputs": [],
   "source": []
  }
 ],
 "metadata": {
  "kernelspec": {
   "display_name": "Python 3",
   "language": "python",
   "name": "python3"
  },
  "language_info": {
   "codemirror_mode": {
    "name": "ipython",
    "version": 3
   },
   "file_extension": ".py",
   "mimetype": "text/x-python",
   "name": "python",
   "nbconvert_exporter": "python",
   "pygments_lexer": "ipython3",
   "version": "3.6.8"
  }
 },
 "nbformat": 4,
 "nbformat_minor": 2
}
